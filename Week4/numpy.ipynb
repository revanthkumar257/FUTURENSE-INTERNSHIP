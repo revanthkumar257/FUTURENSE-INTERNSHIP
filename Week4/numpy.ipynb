{
 "cells": [
  {
   "cell_type": "code",
   "execution_count": 3,
   "id": "23f0df3b",
   "metadata": {},
   "outputs": [],
   "source": [
    "import numpy as np"
   ]
  },
  {
   "cell_type": "code",
   "execution_count": 4,
   "id": "f323df48",
   "metadata": {},
   "outputs": [
    {
     "name": "stdout",
     "output_type": "stream",
     "text": [
      "[1. 2. 3.]\n"
     ]
    }
   ],
   "source": [
    "a = np.array([1, 2, 3], dtype=np.float32)\n",
    "print(a)\n"
   ]
  },
  {
   "cell_type": "code",
   "execution_count": 10,
   "id": "a395bd6b",
   "metadata": {},
   "outputs": [
    {
     "name": "stdout",
     "output_type": "stream",
     "text": [
      "[8 5 3]\n",
      "int16\n"
     ]
    }
   ],
   "source": [
    "b = np.array([8,5,3],dtype=np.int16)\n",
    "print(b)        \n",
    "print(b.dtype)  "
   ]
  },
  {
   "cell_type": "code",
   "execution_count": 12,
   "id": "8b58b83b",
   "metadata": {},
   "outputs": [
    {
     "name": "stdout",
     "output_type": "stream",
     "text": [
      "[9 8 7]\n"
     ]
    }
   ],
   "source": [
    "#input to array\n",
    "a = [9,8,7]\n",
    "b=np.asarray(a)\n",
    "print(b)"
   ]
  },
  {
   "cell_type": "code",
   "execution_count": 14,
   "id": "fb80cbd5",
   "metadata": {},
   "outputs": [
    {
     "name": "stdout",
     "output_type": "stream",
     "text": [
      "[1. 1. 1. 1. 1. 1. 1.]\n"
     ]
    }
   ],
   "source": [
    "#np.ones && np.zeros\n",
    "a = np.ones(7)\n",
    "print(a)"
   ]
  },
  {
   "cell_type": "code",
   "execution_count": 17,
   "id": "5365890d",
   "metadata": {},
   "outputs": [
    {
     "name": "stdout",
     "output_type": "stream",
     "text": [
      "[[1. 1. 1. 1. 1.]\n",
      " [1. 1. 1. 1. 1.]\n",
      " [1. 1. 1. 1. 1.]\n",
      " [1. 1. 1. 1. 1.]\n",
      " [1. 1. 1. 1. 1.]\n",
      " [1. 1. 1. 1. 1.]\n",
      " [1. 1. 1. 1. 1.]]\n"
     ]
    }
   ],
   "source": [
    "b=np.ones([7,5])\n",
    "print(b)"
   ]
  },
  {
   "cell_type": "code",
   "execution_count": 18,
   "id": "b7918226",
   "metadata": {},
   "outputs": [
    {
     "name": "stdout",
     "output_type": "stream",
     "text": [
      "[[1. 1. 1.]\n",
      " [1. 1. 1.]\n",
      " [1. 1. 1.]\n",
      " [1. 1. 1.]\n",
      " [1. 1. 1.]]\n"
     ]
    }
   ],
   "source": [
    "a = np.empty([5,3])\n",
    "print(a)"
   ]
  },
  {
   "cell_type": "code",
   "execution_count": 23,
   "id": "4a52ff47",
   "metadata": {},
   "outputs": [
    {
     "name": "stdout",
     "output_type": "stream",
     "text": [
      "[0 1 2 3 4]\n"
     ]
    }
   ],
   "source": [
    "import numpy as np\n",
    "a = np.arange(5)\n",
    "print(a)"
   ]
  },
  {
   "cell_type": "code",
   "execution_count": null,
   "id": "9462487c",
   "metadata": {},
   "outputs": [],
   "source": [
    "#identity matrix - np.eye()"
   ]
  },
  {
   "cell_type": "code",
   "execution_count": 27,
   "id": "70cc3534",
   "metadata": {},
   "outputs": [
    {
     "name": "stdout",
     "output_type": "stream",
     "text": [
      "[1.41421356 2.         2.23606798]\n",
      "[ 4  9 12]\n",
      "[0 1 2]\n",
      "[ 4 20 35]\n"
     ]
    }
   ],
   "source": [
    "a = np.array([2,5,7])\n",
    "b=np.array([2,4,5])\n",
    "z=a+b\n",
    "x=a-b\n",
    "c=a*b\n",
    "p=np.sqrt(b)\n",
    "print(p)\n",
    "print(z)\n",
    "print(x)\n",
    "print(c)"
   ]
  },
  {
   "cell_type": "code",
   "execution_count": 36,
   "id": "44240eed",
   "metadata": {},
   "outputs": [
    {
     "name": "stdout",
     "output_type": "stream",
     "text": [
      "5\n",
      "46\n"
     ]
    }
   ],
   "source": [
    "import numpy as np\n",
    "a = np.array([5, 8, 12, 19, 25])\n",
    "b = np.array([[3, 17, 24], [29, 38, 46], [55, 61, 78]])\n",
    "c = np.array([1, 9, 15, 27, 33, 45, 59, 73, 81, 97])\n",
    "\n",
    "print(a[0])\n",
    "print(b[1, 2])\n"
   ]
  },
  {
   "cell_type": "code",
   "execution_count": 37,
   "id": "a4fac265",
   "metadata": {},
   "outputs": [
    {
     "name": "stdout",
     "output_type": "stream",
     "text": [
      "[ 8 12 19]\n",
      "[[17 24]\n",
      " [38 46]]\n"
     ]
    }
   ],
   "source": [
    "print(a[1:4])\n",
    "print(b[:2, 1:])"
   ]
  },
  {
   "cell_type": "code",
   "execution_count": 38,
   "id": "6f1dff55",
   "metadata": {},
   "outputs": [
    {
     "name": "stdout",
     "output_type": "stream",
     "text": [
      "[ 1 15 33 59 81]\n",
      "[[17 24]\n",
      " [38 46]\n",
      " [61 78]]\n"
     ]
    }
   ],
   "source": [
    "\n",
    "print(c[::2])\n",
    "print(b[:, 1:3])"
   ]
  },
  {
   "cell_type": "code",
   "execution_count": 39,
   "id": "1d377936",
   "metadata": {},
   "outputs": [
    {
     "name": "stdout",
     "output_type": "stream",
     "text": [
      "[ 5 12 25]\n",
      "[ 5  8 12 19 25]\n"
     ]
    }
   ],
   "source": [
    "print(a[[0, 2, 4]])\n",
    "print(a[a > 3])"
   ]
  },
  {
   "cell_type": "code",
   "execution_count": 40,
   "id": "2cf01275",
   "metadata": {},
   "outputs": [
    {
     "name": "stdout",
     "output_type": "stream",
     "text": [
      "[ 3 17 24 29 38 46 55 61 78]\n"
     ]
    }
   ],
   "source": [
    "print(b.flatten())"
   ]
  },
  {
   "cell_type": "code",
   "execution_count": 41,
   "id": "d3a3c211",
   "metadata": {},
   "outputs": [
    {
     "name": "stdout",
     "output_type": "stream",
     "text": [
      "[ 5  8 12 19 25  6  7  8]\n"
     ]
    }
   ],
   "source": [
    "d = np.array([6, 7, 8])\n",
    "print(np.concatenate((a, d)))"
   ]
  },
  {
   "cell_type": "code",
   "execution_count": 42,
   "id": "cc9c8d63",
   "metadata": {},
   "outputs": [
    {
     "name": "stdout",
     "output_type": "stream",
     "text": [
      "[ 5  8 12 19 25  6  7  8]\n"
     ]
    }
   ],
   "source": [
    "d = np.array([6, 7, 8])\n",
    "print(np.concatenate((a, d)))"
   ]
  },
  {
   "cell_type": "code",
   "execution_count": 43,
   "id": "621c0955",
   "metadata": {},
   "outputs": [
    {
     "name": "stdout",
     "output_type": "stream",
     "text": [
      "[ 5  8 12 19 25  6  7  8]\n",
      "[[ 5  8 12]\n",
      " [ 6  7  8]]\n",
      "[array([5, 8]), array([12, 19]), array([25])]\n",
      "[ 5  8 12 19 25  6  7]\n",
      "[ 5  9 10  8 12 19 25]\n",
      "[ 5 19 25]\n",
      "[[ 5  8 12]\n",
      " [19 25  0]]\n"
     ]
    }
   ],
   "source": [
    "d = np.array([6, 7, 8])\n",
    "print(np.concatenate((a, d)))\n",
    "print(np.stack((a[:3], d)))\n",
    "print(np.array_split(a, 3))\n",
    "print(np.append(a, [6, 7]))\n",
    "print(np.insert(a, 1, [9, 10]))\n",
    "print(np.delete(a, [1, 2]))\n",
    "a.resize((2, 3))\n",
    "print(a)\n"
   ]
  },
  {
   "cell_type": "code",
   "execution_count": 45,
   "id": "715eaa89",
   "metadata": {},
   "outputs": [
    {
     "name": "stdout",
     "output_type": "stream",
     "text": [
      "[[[0.55150821 0.22385045 0.66875363 0.20658546]\n",
      "  [0.42140186 0.33350839 0.10863966 0.01161484]\n",
      "  [0.19312315 0.10108845 0.51555581 0.48349768]]\n",
      "\n",
      " [[0.10650751 0.60469873 0.06274056 0.23603949]\n",
      "  [0.5470869  0.10034009 0.54226635 0.04132612]\n",
      "  [0.10307389 0.42856847 0.71518746 0.07925758]]]\n"
     ]
    }
   ],
   "source": [
    "import numpy as np\n",
    "\n",
    "#1\n",
    "a = np.random.rand(2, 3, 4)\n",
    "b = np.random.rand(3, 4)\n",
    "result_1 = a * b\n",
    "print(result_1)"
   ]
  },
  {
   "cell_type": "code",
   "execution_count": 47,
   "id": "cd611621",
   "metadata": {},
   "outputs": [
    {
     "name": "stdout",
     "output_type": "stream",
     "text": [
      "{'addition': array([[0.83670465, 0.99239471, 0.83295955],\n",
      "       [1.54417369, 1.74875621, 1.00794486]]), 'subtraction': array([[-0.34831464, -0.98511342, -0.71537613],\n",
      "       [ 0.35915439, -0.22875192, -0.54039082]]), 'multiplication': array([[0.1446879 , 0.0035997 , 0.04551465],\n",
      "       [0.56387013, 0.75145521, 0.18098265]]), 'division': array([[0.41213675, 0.00368205, 0.07594182],\n",
      "       [1.60615788, 0.76864629, 0.30197201]])}\n"
     ]
    }
   ],
   "source": [
    "#2\n",
    "def elementwise_operations(c, d):\n",
    "    try:\n",
    "        return {\n",
    "            \"addition\": c + d,\n",
    "            \"subtraction\": c - d,\n",
    "            \"multiplication\": c * d,\n",
    "            \"division\": c / d\n",
    "        }\n",
    "    except ValueError:\n",
    "        return \"Broadcasting not possible\"\n",
    "\n",
    "c = np.random.rand(2, 3)\n",
    "d = np.random.rand(1, 3)\n",
    "result_2 = elementwise_operations(c, d)\n",
    "print(result_2)"
   ]
  },
  {
   "cell_type": "code",
   "execution_count": 48,
   "id": "85f04d7a",
   "metadata": {},
   "outputs": [
    {
     "name": "stdout",
     "output_type": "stream",
     "text": [
      "[[[0.08365692 0.06884372 0.03040406]\n",
      "  [0.53675671 0.44171272 0.19507746]\n",
      "  [0.5521751  0.45440096 0.20068108]\n",
      "  [0.90105927 0.74150789 0.32747864]\n",
      "  [0.48351066 0.39789499 0.17572586]]\n",
      "\n",
      " [[0.07252859 0.0361487  0.02714224]\n",
      "  [0.46535547 0.23193607 0.17414912]\n",
      "  [0.47872284 0.23859846 0.17915157]\n",
      "  [0.78119723 0.38935358 0.292346  ]\n",
      "  [0.41919239 0.2089281  0.1568736 ]]\n",
      "\n",
      " [[0.00892092 0.00395737 0.03139071]\n",
      "  [0.05723809 0.02539113 0.20140802]\n",
      "  [0.05888226 0.02612049 0.20719348]\n",
      "  [0.0960862  0.04262436 0.33810581]\n",
      "  [0.05156009 0.02287234 0.18142842]]\n",
      "\n",
      " [[0.02198728 0.04160429 0.01104846]\n",
      "  [0.14107403 0.26694005 0.07088875]\n",
      "  [0.1451264  0.27460792 0.07292504]\n",
      "  [0.2368225  0.44811513 0.11900171]\n",
      "  [0.12707955 0.2404597  0.06385662]]\n",
      "\n",
      " [[0.01840341 0.066256   0.04431063]\n",
      "  [0.1180793  0.4251095  0.28430433]\n",
      "  [0.12147114 0.43732081 0.292471  ]\n",
      "  [0.198221   0.7136359  0.47726474]\n",
      "  [0.10636588 0.38293881 0.25610145]]]\n"
     ]
    }
   ],
   "source": [
    "np1 = np.random.rand(5, 3)\n",
    "np2 = np.random.rand(5)\n",
    "outer_product = np1[:, np.newaxis, :] * np2[:, np.newaxis]\n",
    "print(outer_product)"
   ]
  },
  {
   "cell_type": "code",
   "execution_count": 53,
   "id": "f21a68d5",
   "metadata": {},
   "outputs": [
    {
     "name": "stdout",
     "output_type": "stream",
     "text": [
      "[[[0.0809648  0.10174926]\n",
      "  [0.09235287 0.90187327]]\n",
      "\n",
      " [[0.71094309 0.464878  ]\n",
      "  [0.27548923 0.461035  ]]]\n"
     ]
    }
   ],
   "source": [
    "yu = np.random.rand(4, 3, 2)\n",
    "result = yu[::2, ::2, :]\n",
    "print(result)"
   ]
  },
  {
   "cell_type": "code",
   "execution_count": 52,
   "id": "43269c7b",
   "metadata": {},
   "outputs": [
    {
     "name": "stdout",
     "output_type": "stream",
     "text": [
      "[[1.42131564 1.77199497]\n",
      " [1.23751542 1.42131564]]\n"
     ]
    }
   ],
   "source": [
    "def diagonal_sum(a, b, c):\n",
    "    k = np.zeros((len(b), len(c)))\n",
    "    for m in range(len(b)):\n",
    "        for n in range(len(c)):\n",
    "            k[m, n] = np.sum(np.diagonal(a, offset=(c[n] - b[m])))\n",
    "    return k\n",
    "a = np.random.rand(4, 4)\n",
    "b = [0, 1]\n",
    "c = [1, 2]\n",
    "re = diagonal_sum(a, b, c)\n",
    "print(re)"
   ]
  },
  {
   "cell_type": "code",
   "execution_count": 55,
   "id": "236cc47c",
   "metadata": {},
   "outputs": [
    {
     "name": "stdout",
     "output_type": "stream",
     "text": [
      "[[0.11412135 0.0793255  0.17964181 0.2339586 ]\n",
      " [0.20447652 0.14213117 0.32187256 0.41919447]\n",
      " [0.21733981 0.15107242 0.34212105 0.44556533]]\n"
     ]
    }
   ],
   "source": [
    "def product_of_means(i):\n",
    "    row_means = np.mean(i, axis=1)\n",
    "    col_means = np.mean(i, axis=0)\n",
    "    return np.outer(row_means, col_means)\n",
    "\n",
    "i = np.random.rand(3, 4)\n",
    "res = product_of_means(i)\n",
    "print(res)"
   ]
  },
  {
   "cell_type": "code",
   "execution_count": 56,
   "id": "6ae063da",
   "metadata": {},
   "outputs": [
    {
     "name": "stdout",
     "output_type": "stream",
     "text": [
      "[[[0.88567528 0.67021955 0.9729243  0.7625731  0.7999412  0.11498695]\n",
      "  [0.1264891  0.42894911 0.99611624 0.16318643 0.27498983 0.12803209]]\n",
      "\n",
      " [[0.67527316 0.86525169 0.00845709 0.07601307 0.63207324 0.17757867]\n",
      "  [0.85481962 0.57556447 0.84392117 0.34612967 0.02751167 0.81103472]]]\n",
      "[[0.88567528 0.67021955 0.9729243  0.7625731  0.7999412  0.11498695]\n",
      " [0.1264891  0.42894911 0.99611624 0.16318643 0.27498983 0.12803209]\n",
      " [0.67527316 0.86525169 0.00845709 0.07601307 0.63207324 0.17757867]\n",
      " [0.85481962 0.57556447 0.84392117 0.34612967 0.02751167 0.81103472]]\n"
     ]
    }
   ],
   "source": [
    "n = np.random.rand(4, 6)\n",
    "reshaped = n.reshape(2, 2, 6)\n",
    "flattened = reshaped.reshape(4, 6)\n",
    "print(reshaped)\n",
    "print(flattened)"
   ]
  },
  {
   "cell_type": "code",
   "execution_count": 57,
   "id": "0b1a8b95",
   "metadata": {},
   "outputs": [
    {
     "name": "stdout",
     "output_type": "stream",
     "text": [
      "[[10 11 12]\n",
      " [ 1  2  3]\n",
      " [ 4  5  6]\n",
      " [ 7  8  9]]\n"
     ]
    }
   ],
   "source": [
    "def roll_along_axis(a, positions):\n",
    "    return np.roll(a, shift=positions, axis=0)\n",
    "\n",
    "a = np.array([[1, 2, 3], [4, 5, 6], [7, 8, 9], [10, 11, 12]])\n",
    "positions = 1\n",
    "res = roll_along_axis(a, positions)\n",
    "print(res)"
   ]
  },
  {
   "cell_type": "code",
   "execution_count": 58,
   "id": "d41f2316",
   "metadata": {},
   "outputs": [
    {
     "name": "stdout",
     "output_type": "stream",
     "text": [
      "[[1 2 3]\n",
      " [4 5 6]\n",
      " [7 8 9]]\n"
     ]
    }
   ],
   "source": [
    "def replace_with_mean(p, x):\n",
    "    p = p.copy()\n",
    "    mask = p == x\n",
    "    rows, cols = np.where(mask)\n",
    "    for row, col in zip(rows, cols):\n",
    "        neighbors = []\n",
    "        if row > 0:\n",
    "            neighbors.append(p[row-1, col])\n",
    "        if row < p.shape[0] - 1:\n",
    "            neighbors.append(p[row+1, col])\n",
    "        if col > 0:\n",
    "            neighbors.append(p[row, col-1])\n",
    "        if col < p.shape[1] - 1:\n",
    "            neighbors.append(p[row, col+1])\n",
    "        p[row, col] = np.mean(neighbors)\n",
    "    return p\n",
    "\n",
    "p = np.array([[1, 2, 3], [4, 0, 6], [7, 8, 9]])\n",
    "x = 0\n",
    "r = replace_with_mean(p, x)\n",
    "print(r)"
   ]
  },
  {
   "cell_type": "code",
   "execution_count": null,
   "id": "4afc2b6c",
   "metadata": {},
   "outputs": [],
   "source": []
  },
  {
   "cell_type": "code",
   "execution_count": null,
   "id": "0b69422e",
   "metadata": {},
   "outputs": [],
   "source": []
  },
  {
   "cell_type": "code",
   "execution_count": null,
   "id": "64617b65",
   "metadata": {},
   "outputs": [],
   "source": []
  }
 ],
 "metadata": {
  "kernelspec": {
   "display_name": "Python 3 (ipykernel)",
   "language": "python",
   "name": "python3"
  },
  "language_info": {
   "codemirror_mode": {
    "name": "ipython",
    "version": 3
   },
   "file_extension": ".py",
   "mimetype": "text/x-python",
   "name": "python",
   "nbconvert_exporter": "python",
   "pygments_lexer": "ipython3",
   "version": "3.9.12"
  }
 },
 "nbformat": 4,
 "nbformat_minor": 5
}
